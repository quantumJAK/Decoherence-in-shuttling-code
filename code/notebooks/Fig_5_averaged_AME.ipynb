{
 "cells": [
  {
   "cell_type": "code",
   "execution_count": 1,
   "id": "0d52875d",
   "metadata": {
    "tags": []
   },
   "outputs": [
    {
     "ename": "ModuleNotFoundError",
     "evalue": "No module named 'seaborn'",
     "output_type": "error",
     "traceback": [
      "\u001b[0;31m---------------------------------------------------------------------------\u001b[0m",
      "\u001b[0;31mModuleNotFoundError\u001b[0m                       Traceback (most recent call last)",
      "Cell \u001b[0;32mIn[1], line 6\u001b[0m\n\u001b[1;32m      3\u001b[0m \u001b[38;5;28;01mfrom\u001b[39;00m \u001b[38;5;21;01msubprocess\u001b[39;00m \u001b[38;5;28;01mimport\u001b[39;00m Popen, PIPE\n\u001b[1;32m      5\u001b[0m hbar \u001b[38;5;241m=\u001b[39m \u001b[38;5;241m0.658\u001b[39m\n\u001b[0;32m----> 6\u001b[0m \u001b[38;5;28;01mimport\u001b[39;00m \u001b[38;5;21;01mseaborn\u001b[39;00m \u001b[38;5;28;01mas\u001b[39;00m \u001b[38;5;21;01msns\u001b[39;00m\n\u001b[1;32m      7\u001b[0m \u001b[38;5;28;01mfrom\u001b[39;00m \u001b[38;5;21;01mnumpy\u001b[39;00m \u001b[38;5;28;01mimport\u001b[39;00m genfromtxt\n\u001b[1;32m      8\u001b[0m plt\u001b[38;5;241m.\u001b[39mrc(\u001b[38;5;124m'\u001b[39m\u001b[38;5;124mtext\u001b[39m\u001b[38;5;124m'\u001b[39m, usetex\u001b[38;5;241m=\u001b[39m\u001b[38;5;28;01mTrue\u001b[39;00m)\n",
      "\u001b[0;31mModuleNotFoundError\u001b[0m: No module named 'seaborn'"
     ]
    }
   ],
   "source": [
    "import numpy as np\n",
    "import matplotlib.pyplot as plt\n",
    "from subprocess import Popen, PIPE\n",
    "\n",
    "hbar = 0.658\n",
    "from numpy import genfromtxt\n",
    "plt.rc('text', usetex=True)\n",
    "\n",
    "import matplotlib as mpl\n",
    "mpl.rcParams.update(mpl.rcParamsDefault)\n",
    "\n",
    "#add directory to path\n",
    "import sys\n",
    "sys.path.append('../source')\n",
    "\n",
    "from qutip_master_eq import *\n"
   ]
  },
  {
   "cell_type": "code",
   "execution_count": 4,
   "id": "872c1f8e",
   "metadata": {
    "tags": []
   },
   "outputs": [],
   "source": [
    "# Parameters for simulations\n",
    "devices = [[SiGe,Struck],[GaAsN,Malinowski]] #devices -> defined in the functions_utils.py\n",
    "tuns = [40]  #tunnel coupling\n",
    "dzs = [1e-3] #difference in spin splitting\n",
    "Ezs = [30]   #average spin splitting\n",
    "eps0 = 250   #sweep range -eps0 to eps0\n",
    "trials = 5  #number of trials (for averaging, suggested >10)\n",
    "siges = [5]  #amplitude of detuning low-frequency noise\n",
    "sigts = [0]  #amplitude of tunnel-coupling low-frequency noise\n",
    "T = [100]    #temperature\n",
    "#spin-orbit coupling (SOC)\n",
    "bxs = [0] #gradient-based (synthetic)\n",
    "ars = [0] #real part of intrinsic SOC\n",
    "aims = [0.1] #imaginary part of intrinsic SOC\n",
    "\n",
    "\n",
    "Ngrid = 200  #number of grid points for inetrpolating spectral denisty\n",
    "emin = 2     #minimal energy for interpolation\n",
    "\n",
    "vs = np.logspace(0,3,11) #sweep rates range\n",
    "\n",
    "#take combinations of parameters\n",
    "datas = cart_dict(cartesian([tuns,dzs,Ezs,siges,sigts,vs,T,bxs,aims,ars,eps0]),\n",
    "                  [\"tun\",\"dz\",\"Ez\",\"sige\",\"sigt\",\"v\",\"T\",\"bx\",\"aim\",\"ar\",\"eps0\"])\n"
   ]
  },
  {
   "cell_type": "code",
   "execution_count": 5,
   "id": "0ef11f59",
   "metadata": {},
   "outputs": [
    {
     "name": "stderr",
     "output_type": "stream",
     "text": [
      "/Users/krzywdaja/Decoherence-in-shuttling-code/code/source/functions_utils.py:102: IntegrationWarning: The maximum number of subdivisions (50) has been achieved.\n",
      "  If increasing the limit yields no improvement it is advised to analyze \n",
      "  the integrand in order to determine the difficulties.  If the position of a \n",
      "  local difficulty can be determined (singularity, discontinuity) one will \n",
      "  probably gain from splitting up the interval and calling the integrator \n",
      "  on the subranges.  Perhaps a special-purpose integrator should be used.\n",
      "  I = integrate.quad(lambda th: sin(th) *D(mat)[pol](th)**2 *\n"
     ]
    },
    {
     "name": "stdout",
     "output_type": "stream",
     "text": [
      "0 1.0\n",
      "0 1.9952623149688795\n",
      "0 3.9810717055349722\n",
      "0 7.943282347242813\n",
      "0 15.848931924611133\n",
      "0 31.622776601683793\n",
      "0 63.0957344480193\n",
      "0 125.89254117941675\n",
      "0 251.18864315095797\n",
      "0 501.18723362727195\n",
      "0 1000.0\n",
      "1 1.0\n",
      "1 1.9952623149688795\n",
      "1 3.9810717055349722\n",
      "1 7.943282347242813\n",
      "1 15.848931924611133\n",
      "1 31.622776601683793\n",
      "1 63.0957344480193\n",
      "1 125.89254117941675\n",
      "1 251.18864315095797\n",
      "1 501.18723362727195\n",
      "1 1000.0\n"
     ]
    }
   ],
   "source": [
    "# run simulations\n",
    "\n",
    "res_master = np.zeros((2,6,len(datas)),dtype=complex)\n",
    "for mn,mat in enumerate(devices):\n",
    "    for r,data in enumerate(datas):\n",
    "        res_master[mn,:,r] = run_master_qutip(mat,mn, data, trials, psi0 = (1,1),phase_correct = False)\n",
    "  "
   ]
  },
  {
   "cell_type": "code",
   "execution_count": 4,
   "id": "c9cdb310-1bd6-43cf-9d3b-c7fbfaf7f38a",
   "metadata": {
    "tags": []
   },
   "outputs": [
    {
     "data": {
      "text/plain": [
       "(1, 1, 5, 6)"
      ]
     },
     "execution_count": 4,
     "metadata": {},
     "output_type": "execute_result"
    }
   ],
   "source": [
    "def load_data(datas, x_axis = \"v\"):\n",
    "    '''\n",
    "    Load data from the simulation results and parameters\n",
    "\n",
    "    Parameters\n",
    "    ----------\n",
    "    datas : list of dict\n",
    "        List of dictionaries containing the parameters of the simulations\n",
    "    x_axis : str\n",
    "        The parameter to be used as the x-axis\n",
    "    \n",
    "    Returns\n",
    "    -------\n",
    "    ymat : np.array\n",
    "        The data to be plotted dims = (device,parameter_set,xvalues,outcome)\n",
    "        where outcome:\n",
    "            [0] Coherence in the ground state\n",
    "            [1] Coherence in the excited state\n",
    "            [2] Population in the excited dn state\n",
    "            [3] Population in the excited up state\n",
    "            [4] Population in the ground dn state\n",
    "            [5] Population in the ground up state\n",
    "    parameters : list of dict\n",
    "        The parameters of the simulations (second axis of ymat)\n",
    "\n",
    "\n",
    "    '''\n",
    "    data_filter = [{k: dat[k] for k in set(list(dat.keys())) - set([x_axis])} for dat in datas]\n",
    "    parameters = list(map(dict, set(tuple(sorted(d.items())) for d in data_filter)))\n",
    "    ymat = []\n",
    "    for mn,mat in enumerate(devices):\n",
    "        ys_m = []\n",
    "        for param in parameters:\n",
    "            you = []\n",
    "            ym = []\n",
    "            for dn,data in enumerate(datas):\n",
    "                #use third axis as a plotting axis\n",
    "                if ({k: data[k] for k in set(list(data.keys())) - set([x_axis])}==param):  #change v\n",
    "                    #you.append(res_ou[:,dn])\n",
    "                    ym.append(res_master[mn,:,dn])\n",
    "            ys_m.append(np.array(ym))\n",
    "        ymat.append(ys_m)\n",
    "        \n",
    "        \n",
    "    ymat = np.array(ymat)\n",
    "    return ymat, parameters\n",
    "\n",
    "results, parameters = load_data(datas, x_axis = \"v\")\n",
    "results.shape"
   ]
  },
  {
   "cell_type": "code",
   "execution_count": 5,
   "id": "2d49ad6e",
   "metadata": {},
   "outputs": [
    {
     "name": "stdout",
     "output_type": "stream",
     "text": [
      "0.001 0.0 0.1\n",
      "0.11905010471907188\n"
     ]
    },
    {
     "data": {
      "image/png": "[encoded data removed]",
      "text/plain": [
       "<Figure size 1200x500 with 2 Axes>"
      ]
     },
     "metadata": {},
     "output_type": "display_data"
    }
   ],
   "source": [
    "fig, ax = plt.subplots(1,2,figsize=(12,5))\n",
    "\n",
    "for ind_dev,data in enumerate(results): #first index is the device\n",
    "    for ind_param,data2 in enumerate(data):   #second index is the parameter set\n",
    "        params = parameters[ind_param] \n",
    "        print(params[\"dz\"],params[\"bx\"],params[\"aim\"])\n",
    "        dWg = 1-2*np.abs(data2[:,0])  #loss of coherence\n",
    "        \n",
    "        \n",
    "        ax[ind_dev].plot(vs,dWg) \n",
    "        ax[ind_dev].plot(vs, LZ(vs, params[\"tun\"]), '-o')\n",
    "\n",
    "\n",
    "        gamma_m = S_z(params[\"tun\"], devices[ind_dev],params[\"T\"])/4/hbar**2\n",
    "        print(gamma_m)\n",
    "        ax[ind_dev].plot(vs, SEAL(vs, gamma_m, params[\"tun\"],params[\"T\"]), \"--\")\n",
    "\n",
    "    ax[ind_dev].set_xscale(\"log\")\n",
    "    ax[ind_dev].set_yscale(\"log\")\n",
    "    ax[ind_dev].set_xlabel(\"Sweep rate $v [\\mu eV/ns]$\")\n",
    "    ax[ind_dev].set_ylabel(\"Loss of coherence\")\n",
    "    ax[ind_dev].set_ylim(bottom=1e-9, top = 1e0)\n",
    "\n",
    "               "
   ]
  },
  {
   "cell_type": "code",
   "execution_count": null,
   "id": "3006733c",
   "metadata": {},
   "outputs": [],
   "source": []
  },
  {
   "cell_type": "code",
   "execution_count": null,
   "id": "20147c23",
   "metadata": {},
   "outputs": [],
   "source": []
  },
  {
   "cell_type": "code",
   "execution_count": null,
   "id": "72d22c19",
   "metadata": {},
   "outputs": [],
   "source": []
  },
  {
   "cell_type": "code",
   "execution_count": null,
   "id": "049d42b5",
   "metadata": {},
   "outputs": [],
   "source": []
  }
 ],
 "metadata": {
  "kernelspec": {
   "display_name": "Python 3",
   "language": "python",
   "name": "python3"
  },
  "language_info": {
   "codemirror_mode": {
    "name": "ipython",
    "version": 3
   },
   "file_extension": ".py",
   "mimetype": "text/x-python",
   "name": "python",
   "nbconvert_exporter": "python",
   "pygments_lexer": "ipython3",
   "version": "3.9.6"
  }
 },
 "nbformat": 4,
 "nbformat_minor": 5
}
